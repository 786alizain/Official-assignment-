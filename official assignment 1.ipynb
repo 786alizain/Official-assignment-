{
 "cells": [
  {
   "cell_type": "code",
   "execution_count": 1,
   "metadata": {},
   "outputs": [
    {
     "name": "stdout",
     "output_type": "stream",
     "text": [
      "Enter Radius of Circle : 0.5\n",
      "Area of Circle is :  0.7853981633974483\n"
     ]
    }
   ],
   "source": [
    "# - Find Area of Circle from user given Radius\n",
    "\n",
    "import math\n",
    "c_rad = float(input(\"Enter Radius of Circle : \"))\n",
    "c_area = math.pi * c_rad ** 2\n",
    "print(\"Area of Circle is : \",c_area)\n"
   ]
  },
  {
   "cell_type": "code",
   "execution_count": 2,
   "metadata": {},
   "outputs": [
    {
     "name": "stdout",
     "output_type": "stream",
     "text": [
      "Enter number here: 5\n",
      "Wah! :) This is a positive number \n"
     ]
    }
   ],
   "source": [
    "# - Check number is positive, negative or zero\n",
    "\n",
    "num = input(\"Enter number here: \")\n",
    "try:\n",
    "    num = float(num)\n",
    "    if num > 0:\n",
    "        print(\"Wah! :) This is a positive number \")\n",
    "    elif num == 0:\n",
    "        print(\"Oh! This number is zero\")\n",
    "    elif num < 0:\n",
    "        print(\"Shit! :( This is a negative number \")\n",
    "except ValueError:\n",
    "    print (\"This is not a number\")\n",
    "    "
   ]
  },
  {
   "cell_type": "code",
   "execution_count": 5,
   "metadata": {},
   "outputs": [
    {
     "name": "stdout",
     "output_type": "stream",
     "text": [
      "Enter First Number  : 2\n",
      "Enter Second Number : 2\n",
      "Number is Completely Divisible\n"
     ]
    }
   ],
   "source": [
    "# - If Numbers are Completely Divisible\n",
    "a, b = input(\"Enter First Number  : \"), input(\"Enter Second Number : \")\n",
    "if (int(a) % int(b)) == 0:\n",
    "    print(\"Number is Completely Divisible\")\n",
    "else:\n",
    "    print(\"No Number is Not Completely Divisible\")\n"
   ]
  },
  {
   "cell_type": "code",
   "execution_count": 7,
   "metadata": {},
   "outputs": [
    {
     "name": "stdout",
     "output_type": "stream",
     "text": [
      "Enter An Intiger : 2\n",
      "2  +  4  +  8  =  14\n"
     ]
    }
   ],
   "source": [
    "# - (n + nn + nnn)\n",
    "\n",
    "n = int(input(\"Enter An Intiger : \"))\n",
    "print(n,\" + \", n**2,\" + \", n**3,\" = \", n + n**2 + n**3)\n"
   ]
  },
  {
   "cell_type": "code",
   "execution_count": 9,
   "metadata": {},
   "outputs": [
    {
     "name": "stdout",
     "output_type": "stream",
     "text": [
      "Enter Radius of Sphere : 1\n",
      "Area of Sphere is :  4.1887902047863905\n"
     ]
    }
   ],
   "source": [
    "# - Calculate volume of a sphere\n",
    "\n",
    "import math\n",
    "s_rad = float(input(\"Enter Radius of Sphere : \"))\n",
    "s_area = 4 / 3 * math.pi * s_rad ** 3\n",
    "print(\"Area of Sphere is : \",s_area)\n"
   ]
  },
  {
   "cell_type": "code",
   "execution_count": 15,
   "metadata": {},
   "outputs": [
    {
     "name": "stdout",
     "output_type": "stream",
     "text": [
      "Enter a String : 2\n",
      "New String is : Is2\n"
     ]
    }
   ],
   "source": [
    "# - \"Is\" Added to the Front of a String\n",
    "\n",
    "s = input(\"Enter a String : \")\n",
    "if s[0:2].lower() != \"is\":\n",
    "    s = \"Is\" + s\n",
    "print(\"New String is : \" + s)"
   ]
  },
  {
   "cell_type": "code",
   "execution_count": 18,
   "metadata": {},
   "outputs": [
    {
     "name": "stdout",
     "output_type": "stream",
     "text": [
      "Enter a String : 2\n",
      "Enter N Copies : 4\n",
      "String   = 2\n",
      "N Copies = 2222\n"
     ]
    }
   ],
   "source": [
    "# - N Copies of String\n",
    "\n",
    "s = input(\"Enter a String : \")\n",
    "c = input(\"Enter N Copies : \")\n",
    "print(\"String   = \" + s)\n",
    "print(\"N Copies = \" + (s * int(c)))\n"
   ]
  },
  {
   "cell_type": "code",
   "execution_count": 20,
   "metadata": {},
   "outputs": [
    {
     "name": "stdout",
     "output_type": "stream",
     "text": [
      "Enter a Number: 4\n",
      "Number is Even\n"
     ]
    }
   ],
   "source": [
    "# - even or odd\n",
    "\n",
    "n = input(\"Enter a Number: \")\n",
    "if int(n) % 2 == 0:\n",
    "    print(\"Number is Even\")\n",
    "else:\n",
    "    print(\"Number is Odd\")"
   ]
  },
  {
   "cell_type": "code",
   "execution_count": 21,
   "metadata": {},
   "outputs": [
    {
     "name": "stdout",
     "output_type": "stream",
     "text": [
      "Enter a Number: 9\n",
      "Number is Odd\n"
     ]
    }
   ],
   "source": [
    "# - even or odd\n",
    "n = input(\"Enter a Number: \")\n",
    "if int(n) % 2 == 0:\n",
    "    print(\"Number is Even\")\n",
    "else:\n",
    "    print(\"Number is Odd\")"
   ]
  },
  {
   "cell_type": "code",
   "execution_count": 23,
   "metadata": {},
   "outputs": [
    {
     "name": "stdout",
     "output_type": "stream",
     "text": [
      "Enter a Letter: e\n",
      "This is Vowel!\n"
     ]
    }
   ],
   "source": [
    "# - Test Whether a Passed Letter is a Vowel\n",
    "s = input(\"Enter a Letter: \")\n",
    "vowel = \"aeiou\"\n",
    "if s.lower() in vowel:\n",
    "    print(\"This is Vowel!\")\n",
    "else:\n",
    "    print(\"This is not a Vowel!\")\n"
   ]
  },
  {
   "cell_type": "code",
   "execution_count": 24,
   "metadata": {},
   "outputs": [
    {
     "name": "stdout",
     "output_type": "stream",
     "text": [
      "Enter a Letter: n\n",
      "This is not a Vowel!\n"
     ]
    }
   ],
   "source": [
    "# - Test Whether a Passed Letter is a Vowel\n",
    "\n",
    "s = input(\"Enter a Letter: \")\n",
    "vowel = \"aeiou\"\n",
    "if s.lower() in vowel:\n",
    "    print(\"This is Vowel!\")\n",
    "else:\n",
    "    print(\"This is not a Vowel!\")\n"
   ]
  },
  {
   "cell_type": "code",
   "execution_count": 28,
   "metadata": {},
   "outputs": [
    {
     "name": "stdout",
     "output_type": "stream",
     "text": [
      "Enter Base   of Triangle : 2\n",
      "Enter Height of Triangle : 4\n",
      "Area of Triangle is : 4.0\n"
     ]
    }
   ],
   "source": [
    "# - Compute Area of Triangle by given base and height\n",
    "\n",
    "b = float(input(\"Enter Base   of Triangle : \"))\n",
    "h = float(input(\"Enter Height of Triangle : \"))\n",
    "area = (1/2) * b * h\n",
    "print(\"Area of Triangle is : \" + str(area))\n"
   ]
  },
  {
   "cell_type": "code",
   "execution_count": 30,
   "metadata": {},
   "outputs": [
    {
     "name": "stdout",
     "output_type": "stream",
     "text": [
      "Enter Amount : 10000\n",
      "Enter Interest Ratio : 0.1\n",
      "Enter No. of Years : 5\n",
      "Future Value is : 10050.1\n"
     ]
    }
   ],
   "source": [
    "# - Future Value Of A Specified Principal Amount,\n",
    "# - Rate Of Interest, And A Number Of Years\n",
    "\n",
    "amt = float(input(\"Enter Amount : \"))\n",
    "interest = float(input(\"Enter Interest Ratio : \")) \n",
    "years = int(input(\"Enter No. of Years : \"))\n",
    "future_value  = amt * ((1 + (interest/100)) ** years)\n",
    "print(\"Future Value is : \" + str(round(future_value,2)))\n"
   ]
  },
  {
   "cell_type": "code",
   "execution_count": 1,
   "metadata": {},
   "outputs": [
    {
     "name": "stdout",
     "output_type": "stream",
     "text": [
      "Enter co-ordinate for x1:2\n",
      "Enter co-ordinate for x2:4\n",
      "Enter co-ordinate for y1:4\n",
      "Enter co-ordinate for y2:4\n",
      "The distance between the points (2,4) and (4,4) is 2.0\n"
     ]
    }
   ],
   "source": [
    "# - Distance between two points (X1, Y1) and (X2, Y2)\n",
    "# - Distance formula is: SQRT[(X1 - X2)^2 + (Y1 - Y2)^2]\n",
    "\n",
    "import math\n",
    "a=int(input(\"Enter co-ordinate for x1:\"))\n",
    "b=int(input(\"Enter co-ordinate for x2:\"))\n",
    "c=int(input(\"Enter co-ordinate for y1:\"))\n",
    "d=int(input(\"Enter co-ordinate for y2:\"))\n",
    "Dis= math.sqrt(pow(b-a,2) + pow(d-c,2))\n",
    "print(f\"The distance between the points ({a},{c}) and ({b},{d}) is {Dis}\")\n"
   ]
  },
  {
   "cell_type": "code",
   "execution_count": 42,
   "metadata": {},
   "outputs": [
    {
     "name": "stdout",
     "output_type": "stream",
     "text": [
      "Enter Height : (Feet)   : 5\n",
      "             : (Inches) : 1\n",
      "Height in Centimeters   : 154.94 cm\n"
     ]
    }
   ],
   "source": [
    "#c- Convert Height (In Feet And Inches) To Centimetres.\n",
    "\n",
    "f = int(input(\"Enter Height : (Feet)   : \"))\n",
    "i = float(input(\"             : (Inches) : \"))\n",
    "c = ((f * 12) + i) * 2.54\n",
    "print(\"Height in Centimeters   :\", c, \"cm\")\n"
   ]
  },
  {
   "cell_type": "code",
   "execution_count": 47,
   "metadata": {},
   "outputs": [
    {
     "name": "stdout",
     "output_type": "stream",
     "text": [
      "Body Mass Index Calculation\n",
      "Enter Weight (kg) : 180\n",
      "Enter Height (m)  : 75\n",
      "BMI is : 0.03\n"
     ]
    }
   ],
   "source": [
    "# - Calculate Body Mass Index\n",
    "# - BMI = weight (kg) ÷ height (m)^2\n",
    "\n",
    "print(\"Body Mass Index Calculation\")\n",
    "w = float(input(\"Enter Weight (kg) : \"))\n",
    "h = float(input(\"Enter Height (m)  : \"))\n",
    "print(\"BMI is :\", round(w / (h ** 2), 2))\n"
   ]
  },
  {
   "cell_type": "code",
   "execution_count": 48,
   "metadata": {},
   "outputs": [
    {
     "name": "stdout",
     "output_type": "stream",
     "text": [
      "Input a Number : 5\n",
      "0\n",
      "1\n",
      "2\n",
      "3\n",
      "4\n",
      "5\n",
      "Sum Of The First 5  Positive Integers are :  15\n"
     ]
    }
   ],
   "source": [
    "# - Sum Of The First N Positive Integers\n",
    "\n",
    "n = int(input(\"Input a Number : \"))\n",
    "s = 0\n",
    "for t in range(n+1):\n",
    "    print(t)\n",
    "    s += t\n",
    "print(\"Sum Of The First\",n ,\" Positive Integers are : \",s)\n",
    "\n"
   ]
  },
  {
   "cell_type": "code",
   "execution_count": 49,
   "metadata": {},
   "outputs": [
    {
     "name": "stdout",
     "output_type": "stream",
     "text": [
      "Input a Integer Number : 15\n",
      "Sum of the Digits are : 6\n"
     ]
    }
   ],
   "source": [
    "# - Sum Of The Digits In An Integer\n",
    "\n",
    "n = input(\"Input a Integer Number : \")\n",
    "try:\n",
    "   v = int(n)\n",
    "except ValueError:\n",
    "   print(\"That's not an int!\")\n",
    "   quit()\n",
    "n = str(abs(int(n))) # dealing with negative value\n",
    "s = 0\n",
    "for d in n:\n",
    "    s += int(d)\n",
    "print(\"Sum of the Digits are :\", s)\n",
    "\n"
   ]
  },
  {
   "cell_type": "code",
   "execution_count": 50,
   "metadata": {},
   "outputs": [
    {
     "name": "stdout",
     "output_type": "stream",
     "text": [
      "Input a Integer Number : 1234\n",
      "Sum of the Digits are : 10\n"
     ]
    }
   ],
   "source": [
    "# - Sum Of The Digits In An Integer\n",
    "\n",
    "n = input(\"Input a Integer Number : \")\n",
    "try:\n",
    "   v = int(n)\n",
    "except ValueError:\n",
    "   print(\"That's not an int!\")\n",
    "   quit()\n",
    "n = str(abs(int(n))) # dealing with negative value\n",
    "s = 0\n",
    "for d in n:\n",
    "    s += int(d)\n",
    "print(\"Sum of the Digits are :\", s)\n",
    "\n"
   ]
  },
  {
   "cell_type": "code",
   "execution_count": null,
   "metadata": {},
   "outputs": [],
   "source": []
  }
 ],
 "metadata": {
  "kernelspec": {
   "display_name": "Python 3",
   "language": "python",
   "name": "python3"
  },
  "language_info": {
   "codemirror_mode": {
    "name": "ipython",
    "version": 3
   },
   "file_extension": ".py",
   "mimetype": "text/x-python",
   "name": "python",
   "nbconvert_exporter": "python",
   "pygments_lexer": "ipython3",
   "version": "3.7.3"
  }
 },
 "nbformat": 4,
 "nbformat_minor": 2
}
